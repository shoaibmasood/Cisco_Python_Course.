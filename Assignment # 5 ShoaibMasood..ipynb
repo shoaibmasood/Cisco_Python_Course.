{
 "cells": [
  {
   "cell_type": "code",
   "execution_count": 1,
   "metadata": {},
   "outputs": [
    {
     "name": "stdout",
     "output_type": "stream",
     "text": [
      "Enter your number for factorial 2\n",
      "The factorial of 2 is 2\n"
     ]
    }
   ],
   "source": [
    "# Write a Python function to calculate the factorial of a number (a non-negativeinteger).\n",
    "# The function accepts the number as an argument.\n",
    "\n",
    "def factOfNumber(num):\n",
    "    \n",
    "    factorial = 1\n",
    "# check if the number is negative, positive or zero\n",
    "    if num < 0:\n",
    "       print(\"Sorry, factorial does not exist for negative numbers\")\n",
    "    elif num == 0:\n",
    "       print(\"The factorial of 0 is 1\")\n",
    "    else:\n",
    "        for i in range(1,num + 1):\n",
    "            factorial = factorial*i\n",
    "        print(\"The factorial of\",num,\"is\",factorial)\n",
    "\n",
    "num = int(input(\"Enter your number for factorial \"))\n",
    "factOfNumber(num)\n",
    "\n"
   ]
  },
  {
   "cell_type": "code",
   "execution_count": 2,
   "metadata": {},
   "outputs": [
    {
     "name": "stdout",
     "output_type": "stream",
     "text": [
      "Enter A String SHoAiB\n",
      "The number of lower case letters are  2\n",
      "The number of upper case letters are  4\n"
     ]
    }
   ],
   "source": [
    "# Write a Python function that accepts a string and calculate the number of upper\n",
    "# case letters and lower case letters.\n",
    "\n",
    "#message = input(\"Type word: \")\n",
    "\n",
    "#print(\"Capital Letters: \", sum(1 for c in message if c.isupper()))\n",
    "#type(string)\n",
    "\n",
    "\n",
    "def numOfUpperAndLowerCase(string):\n",
    "    count_lower = 0\n",
    "    count_upper = 0\n",
    "    \n",
    "    for i in string:\n",
    "        if i.islower():\n",
    "            count_lower = count_lower + 1\n",
    "        elif i.isupper():\n",
    "            count_upper = count_upper + 1\n",
    "    print(\"The number of lower case letters are \", count_lower)\n",
    "    print(\"The number of upper case letters are \", count_upper) \n",
    "\n",
    "\n",
    "numOfUpperAndLowerCase(input(\"Enter A String \"))\n",
    "\n",
    "\n",
    "\n"
   ]
  },
  {
   "cell_type": "code",
   "execution_count": 3,
   "metadata": {},
   "outputs": [
    {
     "name": "stdout",
     "output_type": "stream",
     "text": [
      "2 Number is even\n",
      "4 Number is even\n",
      "Number is not even\n",
      "Number is not even\n",
      "6 Number is even\n",
      "Number is not even\n"
     ]
    }
   ],
   "source": [
    "# Write a Python function to print the even numbers from a given list.\n",
    "def evenNo(even):\n",
    "    for i in range(0,len(even)):\n",
    "        result = even[i] % 2\n",
    "        if result == 0:\n",
    "            print(even[i], \"Number is even\")\n",
    "        else:\n",
    "            print(\"Number is not even\")\n",
    "\n",
    "\n",
    "even_number = [2,4,5,1,6,9]\n",
    "evenNo(even_number)\n"
   ]
  },
  {
   "cell_type": "code",
   "execution_count": 30,
   "metadata": {},
   "outputs": [
    {
     "name": "stdout",
     "output_type": "stream",
     "text": [
      "Enter your string RADAR\n",
      "RADAR\n",
      " its  a palindrome RADAR\n"
     ]
    }
   ],
   "source": [
    "# Write a Python function that checks whether a passed string is palindrome or not.\n",
    "# Note: A palindrome is a word, phrase, or sequence that reads the same\n",
    "# backward as forward, e.g., madam\n",
    "\n",
    "def palindrome(string1):\n",
    "    \n",
    "    # using string slice method where string[start: stop : step] (minus sign rever the step)\n",
    "    # start and stop bit has to be empty in order to check whole length of string \n",
    "    # for example hello  has indexs of [0][1][2[3][4] and by indicating minus it reversse the string olleh\n",
    "    print(string1)\n",
    "    rev_string = string1[::-1]\n",
    "    if string1 == rev_string:\n",
    "        print( \" its  a palindrome\",rev_string)\n",
    "    else:\n",
    "        print(\" its not a palindrome\", rev_string)\n",
    "\n",
    "string = input('Enter your string ')\n",
    "palindrome(string)"
   ]
  },
  {
   "cell_type": "code",
   "execution_count": 29,
   "metadata": {},
   "outputs": [
    {
     "name": "stdout",
     "output_type": "stream",
     "text": [
      "Enter your number 2\n",
      "2  is a Prime Number \n"
     ]
    }
   ],
   "source": [
    "# Write a Python function that takes a number as a parameter and check the\n",
    "# number is prime or not.\n",
    "\n",
    "def prime(num1):\n",
    "    for i  in range(2,num1):\n",
    "        if (num1 % i) == 0:\n",
    "            print(num1,\" is not  prime Number\")\n",
    "            break\n",
    "    else:\n",
    "        print(num1,\" is a Prime Number \")\n",
    "number = input(\"Enter your number \")\n",
    "\n",
    "prime(int(number))\n"
   ]
  },
  {
   "cell_type": "code",
   "execution_count": 32,
   "metadata": {},
   "outputs": [
    {
     "name": "stdout",
     "output_type": "stream",
     "text": [
      "items bought from market are  ('milk', 18, ['orange', 'onions'])\n"
     ]
    }
   ],
   "source": [
    "# Suppose a customer is shopping in a market and you need to print all the items\n",
    "# which user bought from market.\n",
    "# Write a function which accepts the multiple arguments of user shopping list and\n",
    "# print all the items which user bought from market.\n",
    "# (Hint: Arbitrary Argument concept can make this task ease)\n",
    "\n",
    "def multiplearg(*items):\n",
    "    print('items bought from market are ',items)\n",
    "\n",
    "shopping_list = ['orange', 'onions',]\n",
    "multiplearg(\"milk\", 18, shopping_list)"
   ]
  },
  {
   "cell_type": "code",
   "execution_count": null,
   "metadata": {},
   "outputs": [],
   "source": []
  }
 ],
 "metadata": {
  "kernelspec": {
   "display_name": "Python 3",
   "language": "python",
   "name": "python3"
  },
  "language_info": {
   "codemirror_mode": {
    "name": "ipython",
    "version": 3
   },
   "file_extension": ".py",
   "mimetype": "text/x-python",
   "name": "python",
   "nbconvert_exporter": "python",
   "pygments_lexer": "ipython3",
   "version": "3.6.5"
  }
 },
 "nbformat": 4,
 "nbformat_minor": 2
}
