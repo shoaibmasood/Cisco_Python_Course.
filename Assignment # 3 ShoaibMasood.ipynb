{
 "cells": [
  {
   "cell_type": "code",
   "execution_count": 12,
   "metadata": {},
   "outputs": [
    {
     "name": "stdout",
     "output_type": "stream",
     "text": [
      "Enter your first number 6\n",
      "Enter your operator for example + , - , * , / , for power use this ^ ^\n",
      "Enter your Second number 6\n",
      "Power of two numbers are  46656\n"
     ]
    }
   ],
   "source": [
    "# Make a calculator using Python with addition , subtraction , multiplication ,\n",
    "# division and power.\n",
    "\n",
    "num1 = int(input(\"Enter your first number \"))\n",
    "operator = input(\"Enter your operator for example + , - , * , / , for power use this ^ \")\n",
    "num2 = int(input(\"Enter your Second number \"))\n",
    "\n",
    "\n",
    "if operator == \"+\":\n",
    "    print(\"The sum of two numbers are \", num1 + num2)\n",
    "elif operator == \"-\":\n",
    "    print(\"The Subtraction of two numbers are \", num1 - num2)\n",
    "elif operator == \"*\":\n",
    "    print(\"The Multiplication of two numbers are \", num1 * num2)\n",
    "elif operator == \"/\":\n",
    "    print(\"The Division of two numbers are \", num1 / num2)\n",
    "elif operator == \"^\":\n",
    "    print(\"Power of two numbers are \", num1 ** num2)"
   ]
  },
  {
   "cell_type": "code",
   "execution_count": 53,
   "metadata": {},
   "outputs": [
    {
     "name": "stdout",
     "output_type": "stream",
     "text": [
      "Yes there is numeric value present   1\n",
      "Yes there is numeric value present   3\n",
      "Yes there is numeric value present   100\n"
     ]
    }
   ],
   "source": [
    "# Write a program to check if there is any numeric value in list using for loop\n",
    "num1 = ['A',1,3,\"Hello Python\",100]\n",
    "result = 0\n",
    "for i in range(0, len(num1)):\n",
    "         result = isinstance(num1[i],int)\n",
    "         if result == True:\n",
    "                value = num1[i]\n",
    "                print(\"Yes there is numeric value present  \", value)\n",
    "                "
   ]
  },
  {
   "cell_type": "code",
   "execution_count": 9,
   "metadata": {},
   "outputs": [
    {
     "name": "stdout",
     "output_type": "stream",
     "text": [
      "Shoaib\n",
      "{'FirstName': 'Shoaib', 'LastName': 'Masood', 'Age': 27, 'Gender': None}\n"
     ]
    }
   ],
   "source": [
    "# Write a Python script to add a key to a dictionary\n",
    "\n",
    "my_dictionary = {\"FirstName\":'Shoaib','LastName':'Masood','Age':27}\n",
    "print(my_dictionary[\"FirstName\"])\n",
    "my_dictionary[\"Gender\"] = None #adding only key with None type\n",
    "print(my_dictionary)\n",
    "\n"
   ]
  },
  {
   "cell_type": "code",
   "execution_count": 3,
   "metadata": {},
   "outputs": [
    {
     "name": "stdout",
     "output_type": "stream",
     "text": [
      "Sum of all numeric items are  293\n"
     ]
    }
   ],
   "source": [
    "# Write a Python program to sum all the numeric items in a dictionary\n",
    "\n",
    "my_dict = {'data1':100,'data2':-54,'data3':247}\n",
    "print(\"Sum of all numeric items are \",sum(my_dict.values()))\n",
    "                "
   ]
  },
  {
   "cell_type": "code",
   "execution_count": 2,
   "metadata": {},
   "outputs": [
    {
     "name": "stdout",
     "output_type": "stream",
     "text": [
      "The duplicate values are  {1, 3, 4, 5, 'hello'}\n"
     ]
    }
   ],
   "source": [
    "# Write a program to identify duplicate values from list\n",
    "\n",
    "l = [1,2,3,4,4,3,5,5,6,1,\"hello\",\"hello\"]\n",
    "print(\"The duplicate values are \",set([x for x in l if l.count(x) > 1]))"
   ]
  },
  {
   "cell_type": "code",
   "execution_count": 20,
   "metadata": {},
   "outputs": [
    {
     "name": "stdout",
     "output_type": "stream",
     "text": [
      "key is present\n"
     ]
    }
   ],
   "source": [
    "# Write a Python script to check if a given key already exists in a dictionary\n",
    "_dict = {\"firstname\": \"shoaib\",\"lastname\":\"masood\"}\n",
    "x=\"firstname\"\n",
    "if x in _dict:\n",
    "    print(\"key is present\")\n",
    "else:\n",
    "    print(\"key is not present\")"
   ]
  }
 ],
 "metadata": {
  "kernelspec": {
   "display_name": "Python 3",
   "language": "python",
   "name": "python3"
  },
  "language_info": {
   "codemirror_mode": {
    "name": "ipython",
    "version": 3
   },
   "file_extension": ".py",
   "mimetype": "text/x-python",
   "name": "python",
   "nbconvert_exporter": "python",
   "pygments_lexer": "ipython3",
   "version": "3.6.5"
  }
 },
 "nbformat": 4,
 "nbformat_minor": 2
}
