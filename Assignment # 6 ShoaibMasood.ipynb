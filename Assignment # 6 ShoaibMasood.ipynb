{
 "cells": [
  {
   "cell_type": "code",
   "execution_count": 3,
   "metadata": {},
   "outputs": [
    {
     "name": "stdout",
     "output_type": "stream",
     "text": [
      " OOP is a paradigm in which real world objects are each viewed as separate entities having their own state which is modified   only by built in procedures, called methods\n"
     ]
    }
   ],
   "source": [
    "#Question 1:\n",
    "#Define Object Oriented Programming Language?\n",
    "\n",
    "print(\" OOP is a paradigm in which real world objects are each viewed as separate entities having their own state which is modified   only by built in procedures, called methods\")"
   ]
  },
  {
   "cell_type": "code",
   "execution_count": 11,
   "metadata": {
    "scrolled": true
   },
   "outputs": [
    {
     "name": "stdout",
     "output_type": "stream",
     "text": [
      "1. Encapsulation: By using this we grouped related varaibles and functions together and this way we can 'reduce complexity'\n",
      " Now we can reuse this object in differnt parts of programs or in different programs\n",
      " \n",
      "2. Abstraction: With abstraction  we hide the details and complexity and show only the essentials. This technique reduces\n",
      " complexity  and also isolates the impact of changes of code.\n",
      "\n",
      "3. Inheritance: With inheritance we can eliminate redundant code.\n",
      "\n",
      "4. Polymorphism: With Polymorphism we can refacotr ugly switch case statements.\n"
     ]
    }
   ],
   "source": [
    "#Question 2:\n",
    "#List down the Benefits of OOP?\n",
    "\n",
    "print(\"1. Encapsulation: By using this we grouped related varaibles and functions together and this way we can 'reduce complexity'\\n Now we can reuse this object in differnt parts of programs or in different programs\\n \")\n",
    "print(\"2. Abstraction: With abstraction  we hide the details and complexity and show only the essentials. This technique reduces\\n complexity  and also isolates the impact of changes of code.\\n\")\n",
    "print(\"3. Inheritance: With inheritance we can eliminate redundant code.\\n\")\n",
    "print(\"4. Polymorphism: With Polymorphism we can refacotr ugly switch case statements.\")"
   ]
  },
  {
   "cell_type": "code",
   "execution_count": 15,
   "metadata": {},
   "outputs": [
    {
     "name": "stdout",
     "output_type": "stream",
     "text": [
      "Methods:\n",
      " Method is called by its name,but it is associated to an object (dependent).\n",
      " A method is implicitly passed the object on which it is invoked.\n",
      " It may or may not return any data.\n",
      " A method can operate on the data (instance variables) that is contained by the corresponding class.\n",
      "\n",
      "Functions:\n",
      " Function is block of code that is also called by its name. (independent).\n",
      " The function can have different parameters or may not have any at all. If any data (parameters) are passed, they are passed   explicitly.\n",
      " It may or may not return any data.\n",
      " Function does not deal with Class and its instance concept.\n"
     ]
    }
   ],
   "source": [
    "#Question 3:\n",
    "#Differentiate between function and method?\n",
    "\n",
    "print(\"Methods:\\n Method is called by its name,but it is associated to an object (dependent).\\n A method is implicitly passed the object on which it is invoked.\\n It may or may not return any data.\\n A method can operate on the data (instance variables) that is contained by the corresponding class.\\n\")\n",
    "print(\"Functions:\\n Function is block of code that is also called by its name. (independent).\\n The function can have different parameters or may not have any at all. If any data (parameters) are passed, they are passed   explicitly.\\n It may or may not return any data.\\n Function does not deal with Class and its instance concept.\")"
   ]
  },
  {
   "cell_type": "code",
   "execution_count": 19,
   "metadata": {},
   "outputs": [
    {
     "name": "stdout",
     "output_type": "stream",
     "text": [
      "Class:\n",
      " It is a template or blue print about the capability of what an object can do.\n",
      " \n",
      "Object:\n",
      " An object is an instantiation of a class. when class is defined, only the description for the object is defined.Therefore,\n",
      " no memory or storage is allocated.\n",
      "Attribute:\n",
      " Attribute is a propertity of defined object like parrot is object and its name colour age are its attributes.\n",
      "\n",
      "Behaviour:\n",
      " Behaviour is like functionality of that object, for an object of parrot singing dancing is like a behaviour  of that defined  object.\n"
     ]
    }
   ],
   "source": [
    "#Question 4:\n",
    "#Define the following terms:\n",
    "print(\"Class:\\n It is a template or blue print about the capability of what an object can do.\\n \")\n",
    "print(\"Object:\\n An object is an instantiation of a class. when class is defined, only the description for the object is defined.Therefore,\\n no memory or storage is allocated.\")\n",
    "print(\"Attribute:\\n Attribute is a propertity of defined object like parrot is object and its name colour age are its attributes.\\n\")\n",
    "print(\"Behaviour:\\n Behaviour is like functionality of that object, for an object of parrot singing dancing is like a behaviour  of that defined  object.\")"
   ]
  },
  {
   "cell_type": "code",
   "execution_count": 17,
   "metadata": {},
   "outputs": [
    {
     "name": "stdout",
     "output_type": "stream",
     "text": [
      "Car specifications are  2019 black Honda Automatic ABS\n",
      "Car specifications are  2019 Red Toyota Automatic ABS\n",
      "Car specifications are  2019 white FAW Automatic ABS\n",
      "Car specifications are  2019 Silver Suzuki Manual  Normal\n",
      "Car specifications are  2019 Blue KIA Automatic ABS\n",
      "update model is  2020\n"
     ]
    }
   ],
   "source": [
    "#Question 5:\n",
    "# Write a code in python in which create a class named it Car which have 5 attributes such like (model, color and name etc.) and 3\n",
    "# methods. And create 5 object instance from that class.\n",
    "\n",
    "class Car:\n",
    "    def __init__(self,model,color,name,transmission,brakes):\n",
    "        self.model = model\n",
    "        self.color = color\n",
    "        self.name = name\n",
    "        self.transmission = transmission\n",
    "        self.brakes = brakes\n",
    "        print(\"Car specifications are \",self.model,self.color,self.name,self.transmission,self.brakes)\n",
    "    \n",
    "\n",
    "    def updatemodel(self,newmodel):\n",
    "        self.model = newmodel\n",
    "        print('update model is ',self.model)\n",
    "\n",
    "car1 = Car(2019,'black','Honda','Automatic','ABS')\n",
    "car2 = Car(2019,'Red','Toyota','Automatic','ABS')\n",
    "car3 = Car(2019,'white','FAW','Automatic','ABS')\n",
    "car4 = Car(2019,'Silver','Suzuki','Manual',' Normal')\n",
    "car5 = Car(2019,'Blue','KIA','Automatic','ABS')\n",
    "\n",
    "car1.updatemodel(2020)\n",
    "\n",
    "#print(Car(2019,'black','Honda','Automatic','ABS')\n",
    "#print(car1.updatemodel(2020))\n",
    "#car1.updatemodel(2020)"
   ]
  },
  {
   "cell_type": "code",
   "execution_count": null,
   "metadata": {},
   "outputs": [],
   "source": []
  }
 ],
 "metadata": {
  "kernelspec": {
   "display_name": "Python 3",
   "language": "python",
   "name": "python3"
  },
  "language_info": {
   "codemirror_mode": {
    "name": "ipython",
    "version": 3
   },
   "file_extension": ".py",
   "mimetype": "text/x-python",
   "name": "python",
   "nbconvert_exporter": "python",
   "pygments_lexer": "ipython3",
   "version": "3.6.5"
  }
 },
 "nbformat": 4,
 "nbformat_minor": 2
}
