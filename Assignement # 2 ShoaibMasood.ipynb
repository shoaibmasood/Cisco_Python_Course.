{
 "cells": [
  {
   "cell_type": "code",
   "execution_count": 56,
   "metadata": {},
   "outputs": [
    {
     "name": "stdout",
     "output_type": "stream",
     "text": [
      "Enter your marks out of 100 forexample: 50 out of 100\n",
      "\n",
      "Enter your maths marks 100\n",
      "Enter your Physic marks 100\n",
      "Enter your Chemistry marks 100\n",
      "Enter your English marks 100\n",
      "Enter your Urdu marks 100\n",
      "your total marks are  100.0\n",
      "your grade is A+\n"
     ]
    }
   ],
   "source": [
    "# 1. Write a program which takes 5 inputs from user for different subject’s\n",
    "# marks, total it and generate mark sheet using grades\n",
    "print(\"Enter your marks out of 100 forexample: 50 out of 100\\n\")\n",
    "maths = float(input(\"Enter your maths marks \"))\n",
    "phy = float(input(\"Enter your Physic marks \"))\n",
    "chem = float(input(\"Enter your Chemistry marks \"))\n",
    "eng = float(input(\"Enter your English marks \"))\n",
    "urdu = float(input(\"Enter your Urdu marks \"))\n",
    "sum = maths + phy + chem + eng + urdu\n",
    "total = sum/5\n",
    "print(\"your total marks are \",total)\n",
    "if total >=80 and total <=100:\n",
    "    print(\"your grade is A+\")\n",
    "elif total >=70 and total <=79.5:\n",
    "    print(\"your grade is A\")\n",
    "elif total >=60 and total <=69.5:\n",
    "    print(\"you grade is B\")\n",
    "elif total >=50 and total <=59.5:\n",
    "    print(\"you grade is C\")\n",
    "elif total < 50:\n",
    "    print(\"you grade is D and you'r fail\")\n",
    "elif total >=101:\n",
    "    print(\"you entered invalid number\")\n"
   ]
  },
  {
   "cell_type": "code",
   "execution_count": 65,
   "metadata": {},
   "outputs": [
    {
     "name": "stdout",
     "output_type": "stream",
     "text": [
      "Enter your number 5\n",
      "your number is odd\n"
     ]
    }
   ],
   "source": [
    "# 2. Write a program which take input from user and identify that the given\n",
    "# number is even or odd?\n",
    "\n",
    "num = int(input(\"Enter your number \"))\n",
    "if (num % 2) == 0:\n",
    "    print(\"you number is  even\")\n",
    "else:\n",
    "    print(\"your number is odd\")"
   ]
  },
  {
   "cell_type": "code",
   "execution_count": 68,
   "metadata": {},
   "outputs": [
    {
     "name": "stdout",
     "output_type": "stream",
     "text": [
      "the length of the list is 5\n"
     ]
    }
   ],
   "source": [
    "# 3. Write a program which print the length of the list?\n",
    "\n",
    "arr = [1,2,3,4,5,]\n",
    "print(\"the length of the list is\" ,len(arr))"
   ]
  },
  {
   "cell_type": "code",
   "execution_count": 4,
   "metadata": {},
   "outputs": [
    {
     "name": "stdout",
     "output_type": "stream",
     "text": [
      "the sum of all numeric items are  15\n"
     ]
    }
   ],
   "source": [
    "# 4. Write a Python program to sum all the numeric items in a list?\n",
    "num1 = [1,2,3,4,5]\n",
    "sum = num1[0]+num1[1]+num1[2]+num1[3]+num1[4]\n",
    "print(\"the sum of all numeric items are \", sum)"
   ]
  },
  {
   "cell_type": "code",
   "execution_count": 27,
   "metadata": {},
   "outputs": [
    {
     "name": "stdout",
     "output_type": "stream",
     "text": [
      "the largest number from numeric list is  8\n"
     ]
    }
   ],
   "source": [
    "# 5. Write a Python program to get the largest number from a numeric list.\n",
    "\n",
    "# 1st method: using max method\n",
    "\n",
    "num1 = [1,8,3,4,5]\n",
    "#print(max(num1))\n",
    "\n",
    "#2nd method: with the help of for loop and len()\n",
    "\n",
    "max_num = num1[0] #we are starting from index 0\n",
    "\n",
    "for i in range(0, len(num1)):\n",
    "               if num1[i] > max_num:\n",
    "                max_num = num1[i]\n",
    "print(\"the largest number from numeric list is \",max_num)\n",
    "\n"
   ]
  },
  {
   "cell_type": "code",
   "execution_count": 28,
   "metadata": {},
   "outputs": [
    {
     "name": "stdout",
     "output_type": "stream",
     "text": [
      "[1, 1, 2, 3]\n"
     ]
    }
   ],
   "source": [
    "#6. Take a list, say for example this one:\n",
    "# a = [1, 1, 2, 3, 5, 8, 13, 21, 34, 55, 89]\n",
    "# and write a program that prints out all the elements of the list that are\n",
    "# less than 5.\n",
    "\n",
    "a = [1,1,2,3,5,8,13,21,34,55,89]\n",
    "arr = []\n",
    "num = 5\n",
    "for i in range(0, len(a)):\n",
    "    if a[i] < num:\n",
    "      arr.append(a[i])\n",
    "print(arr)\n"
   ]
  },
  {
   "cell_type": "code",
   "execution_count": null,
   "metadata": {},
   "outputs": [],
   "source": []
  }
 ],
 "metadata": {
  "kernelspec": {
   "display_name": "Python 3",
   "language": "python",
   "name": "python3"
  },
  "language_info": {
   "codemirror_mode": {
    "name": "ipython",
    "version": 3
   },
   "file_extension": ".py",
   "mimetype": "text/x-python",
   "name": "python",
   "nbconvert_exporter": "python",
   "pygments_lexer": "ipython3",
   "version": "3.6.5"
  }
 },
 "nbformat": 4,
 "nbformat_minor": 2
}
