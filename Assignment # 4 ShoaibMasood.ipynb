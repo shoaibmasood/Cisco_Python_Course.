{
 "cells": [
  {
   "cell_type": "code",
   "execution_count": 8,
   "metadata": {},
   "outputs": [
    {
     "name": "stdout",
     "output_type": "stream",
     "text": [
      "{'FirstName': 'Shoaib', 'LastName': 'Masood', 'Age': 27, 'City': 'Karachi'}\n",
      "{'FirstName': 'Shoaib', 'LastName': 'Masood', 'Age': 27, 'City': 'Karachi', 'Qualification': 'Bachelors'}\n",
      "{'FirstName': 'Shoaib', 'LastName': 'Masood', 'Age': 27, 'City': 'Karachi'}\n"
     ]
    }
   ],
   "source": [
    "# Use a dictionary to store information about a person you know. \n",
    "#Store their first name, last name, age, and the city in which they live. \n",
    "#You should have keys such as first_name, last_name, age, and city. Print each piece of information stored in your dictionary. \n",
    "#Add a new key value pair about qualification then update the qualification value to high academic level then delete it.\n",
    "\n",
    "information = {\"FirstName\":'Shoaib','LastName':'Masood','Age':27, \"City\": \"Karachi\",}\n",
    "print(information)\n",
    "information[\"Qualification\"]= \"Bachelors\"\n",
    "print(information)\n",
    "del information[\"Qualification\"]\n",
    "print(information)\n"
   ]
  },
  {
   "cell_type": "code",
   "execution_count": 15,
   "metadata": {},
   "outputs": [
    {
     "name": "stdout",
     "output_type": "stream",
     "text": [
      "{'Karachi': {'country': 'Pakistan', 'Population': '14.9 Million', 'fact': 'It is the Sixth largest city in the world by city population.'}, 'Paris': {'country': 'France', 'Population': '2.14 Million', 'fact': 'Paris is widely known as “The City of Lights” or “La Ville-Lumiere”'}, 'Sydeny': {'country': 'Australia', 'Population': '5.23 Million', 'fact': 'The architect for the Syndey Opera House only won £5,000 for the design of the world renown building.'}}\n"
     ]
    }
   ],
   "source": [
    "# Make a dictionary called cities. Use the names of three cities as keys in your dictionary. \n",
    "#Create a dictionary of information about each city and include the country that the city is in, its approximate population, \n",
    "#and one fact about that city. The keys for each city’s dictionary should be something like country, population, and fact.\n",
    "#Print the name of each city and all of the information you have stored about it.\n",
    "\n",
    "cities = {\"Karachi\":{\"country\": \"Pakistan\", \"Population\": \"14.9 Million\", \"fact\": \"It is the Sixth largest city in the world by city population.\"},\n",
    "         \"Paris\":{\"country\": \"France\", \"Population\": \"2.14 Million\", \"fact\":\"Paris is widely known as “The City of Lights” or “La Ville-Lumiere”\"},\n",
    "          \"Sydeny\":{\"country\": \"Australia\", \"Population\": \"5.23 Million\", \"fact\":\"The architect for the Syndey Opera House only won £5,000 for the design of the world renown building.\"},\n",
    "         }\n",
    "\n",
    "print(cities)\n"
   ]
  },
  {
   "cell_type": "code",
   "execution_count": 3,
   "metadata": {},
   "outputs": [
    {
     "name": "stdout",
     "output_type": "stream",
     "text": [
      "Enter your age to purchase your movie ticket5\n",
      "Cost of movie ticket is $10\n",
      "Enter your age to purchase your movie ticket2\n",
      "your ticket cost is zero $\n",
      "Enter your age to purchase your movie ticket3\n",
      "Cost of movie ticket is $10\n"
     ]
    }
   ],
   "source": [
    "#A movie theater charges different ticket prices depending on a person’s age. If a person is under the age of 3, \n",
    "#the ticket is free; if they are between 3 and 12, the ticket is $10; and if they are over age 12, the ticket is $15. \n",
    "#Write a loop in which you ask users their age, and then tell them the cost of their movie ticket.\n",
    "\n",
    "for i in range(0,3):\n",
    "    age = int(input(\"Enter your age to purchase your movie ticket\"))\n",
    "    if age < 3:\n",
    "        print(\"your ticket cost is zero $\")\n",
    "    elif age >= 3 and age <= 12:\n",
    "        print(\"Cost of movie ticket is $10\")\n",
    "    elif age > 12:\n",
    "        print(\"Cost of movie ticket is $15\")\n"
   ]
  },
  {
   "cell_type": "code",
   "execution_count": 4,
   "metadata": {},
   "outputs": [
    {
     "name": "stdout",
     "output_type": "stream",
     "text": [
      "One of my favorite Book is  Alice in Wonderland\n"
     ]
    }
   ],
   "source": [
    "#Write a function called favorite_book() that accepts one parameter, title. The function should print a message, \n",
    "#such as One of my favorite books is Alice in Wonderland. Call the function, \n",
    "#making sure to include a book title as an argument in the function call.\n",
    "\n",
    "def favorite_book(title):\n",
    "    print(\"One of my favorite Book is \", title)\n",
    "\n",
    "favorite_book(\"Alice in Wonderland\")\n"
   ]
  },
  {
   "cell_type": "code",
   "execution_count": 3,
   "metadata": {},
   "outputs": [
    {
     "name": "stdout",
     "output_type": "stream",
     "text": [
      "Enter your guessed number between 1 and 30 \n",
      "15\n",
      "Hint!! hidden nummber is smaller than your's guessed number \n",
      "Enter your guessed number between 1 and 30 \n",
      "7\n",
      "Hint!! hidden number is greater than your's guessed number \n",
      "Enter your guessed number between 1 and 30 \n",
      "1\n",
      "Hint!! hidden number is greater than your's guessed number \n",
      "hidden number is  12\n"
     ]
    }
   ],
   "source": [
    "#Guess the number game\n",
    "#Write a program which randomly generate a number between 1 to 30 and ask the user in input field to guess the correct number. \n",
    "#Give three chances to user guess the number and also give hint to user if hidden number is greater or smaller \n",
    "#than the number he given to input field.\n",
    "\n",
    "import random\n",
    "\n",
    "guess_number = random.randint(1,30)\n",
    "#print(\" hidden number is \",guess_number)\n",
    "for i in range(0,3):\n",
    "    num_1 = int(input(\"Enter your guessed number between 1 and 30 \\n\"))\n",
    "    if num_1 == guess_number:\n",
    "        print(\"your guess is correct \",guess_number)\n",
    "        break\n",
    "    elif num_1 > guess_number:\n",
    "        print(\"Hint!! hidden nummber is smaller than your's guessed number \")\n",
    "    elif num_1 < guess_number:\n",
    "        print(\"Hint!! hidden number is greater than your's guessed number \")\n",
    "\n",
    "convert_to_string= str(guess_number)\n",
    "\n",
    "print(\"hidden number is \",convert_to_string)"
   ]
  },
  {
   "cell_type": "code",
   "execution_count": null,
   "metadata": {},
   "outputs": [],
   "source": []
  },
  {
   "cell_type": "code",
   "execution_count": null,
   "metadata": {},
   "outputs": [],
   "source": []
  }
 ],
 "metadata": {
  "kernelspec": {
   "display_name": "Python 3",
   "language": "python",
   "name": "python3"
  },
  "language_info": {
   "codemirror_mode": {
    "name": "ipython",
    "version": 3
   },
   "file_extension": ".py",
   "mimetype": "text/x-python",
   "name": "python",
   "nbconvert_exporter": "python",
   "pygments_lexer": "ipython3",
   "version": "3.6.5"
  }
 },
 "nbformat": 4,
 "nbformat_minor": 2
}
